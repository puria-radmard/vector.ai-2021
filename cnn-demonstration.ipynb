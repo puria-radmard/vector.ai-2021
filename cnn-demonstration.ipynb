{
    "cells": [
        {
            "cell_type": "code",
            "execution_count": 1,
            "source": [
                "from cnn import model"
            ],
            "outputs": [
                {
                    "output_type": "error",
                    "ename": "SyntaxError",
                    "evalue": "invalid syntax (model.py, line 13)",
                    "traceback": [
                        "Traceback \u001b[0;36m(most recent call last)\u001b[0m:\n",
                        "  File \u001b[1;32m\"/opt/anaconda3/envs/container/lib/python3.8/site-packages/IPython/core/interactiveshell.py\"\u001b[0m, line \u001b[1;32m3441\u001b[0m, in \u001b[1;35mrun_code\u001b[0m\n    exec(code_obj, self.user_global_ns, self.user_ns)\n",
                        "\u001b[0;36m  File \u001b[0;32m\"<ipython-input-1-ff84749b4688>\"\u001b[0;36m, line \u001b[0;32m1\u001b[0;36m, in \u001b[0;35m<module>\u001b[0;36m\u001b[0m\n\u001b[0;31m    from cnn import model\u001b[0m\n",
                        "\u001b[0;36m  File \u001b[0;32m\"/Users/puriaradmard/Documents/GitHub/vectorai.2021/cnn/model.py\"\u001b[0;36m, line \u001b[0;32m13\u001b[0m\n\u001b[0;31m    def ConvNN(nn.Module):\u001b[0m\n\u001b[0m                 ^\u001b[0m\n\u001b[0;31mSyntaxError\u001b[0m\u001b[0;31m:\u001b[0m invalid syntax\n"
                    ]
                }
            ],
            "metadata": {}
        },
        {
            "cell_type": "code",
            "execution_count": null,
            "source": [],
            "outputs": [],
            "metadata": {}
        }
    ],
    "metadata": {
        "orig_nbformat": 4,
        "language_info": {
            "name": "python",
            "version": "3.8.10",
            "mimetype": "text/x-python",
            "codemirror_mode": {
                "name": "ipython",
                "version": 3
            },
            "pygments_lexer": "ipython3",
            "nbconvert_exporter": "python",
            "file_extension": ".py"
        },
        "kernelspec": {
            "name": "python3",
            "display_name": "Python 3.8.10 64-bit ('container': conda)"
        },
        "interpreter": {
            "hash": "3055f3e12c0e234810da0dad9021fc400e0b7cf6c5f76517be4bba87130b6d4e"
        }
    },
    "nbformat": 4,
    "nbformat_minor": 2
}