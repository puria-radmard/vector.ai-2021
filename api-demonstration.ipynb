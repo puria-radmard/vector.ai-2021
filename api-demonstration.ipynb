{
    "cells": [
        {
            "cell_type": "code",
            "execution_count": 1,
            "source": [
                "import time\n",
                "from api.interface import *\n",
                "from datetime import datetime"
            ],
            "outputs": [],
            "metadata": {}
        },
        {
            "cell_type": "markdown",
            "source": [
                "Let's start with Kafka"
            ],
            "metadata": {}
        },
        {
            "cell_type": "markdown",
            "source": [
                "To run server & consumer, open three terminals in order (in kafka directory)\n",
                "- bin/zookeeper-server-start.sh config/zookeeper.properties \n",
                "- bin/kafka-server-start.sh config/server.properties\n",
                "- bin/kafka-console-consumer.sh --bootstrap-server localhost:9092 --topic testing"
            ],
            "metadata": {}
        },
        {
            "cell_type": "code",
            "execution_count": 2,
            "source": [
                "# Generate a config object\n",
                "config = Config(\n",
                "    provider = 'kafka', server = 'localhost:9092'\n",
                ")\n",
                "\n",
                "# Generate a producer object\n",
                "producer = Producer(config)\n",
                "\n",
                "# Generate or add an existing a topic\n",
                "# producer.create_topic(\"testing_topic-1234\")\n",
                "producer.add_topic(\"testing_topic-1234\")\n",
                "\n",
                "# Send a message to the topic\n",
                "producer.send_message(f\"Hello again! {datetime.now().time()}\", \"testing_topic-1234\")"
            ],
            "outputs": [
                {
                    "output_type": "stream",
                    "name": "stdout",
                    "text": [
                        "Sent message to testing_topic-1234\n"
                    ]
                }
            ],
            "metadata": {}
        },
        {
            "cell_type": "code",
            "execution_count": 3,
            "source": [
                "# Topics stored under config, so other producer objects with same config can access them\n",
                "# Built in warnings when reproducing a topic\n",
                "producer2 = Producer(config)\n",
                "producer.create_topic(\"testing_topic-1234\")\n",
                "\n",
                "# Topics exist outside of API so even this will cause error\n",
                "config2 = Config(\n",
                "    provider = 'kafka', server = 'localhost:9092'\n",
                ")\n",
                "producer3 = Producer(config)\n",
                "producer3.create_topic(\"testing_topic\")"
            ],
            "outputs": [
                {
                    "output_type": "stream",
                    "name": "stdout",
                    "text": [
                        "Already a topic named testing_topic-1234!\n",
                        "Caught: [Error 36] TopicAlreadyExistsError: Request 'CreateTopicsRequest_v3(create_topic_requests=[(topic='testing_topic-1234', num_partitions=1, replication_factor=1, replica_assignment=[], configs=[])], timeout=30000, validate_only=False)' failed with response 'CreateTopicsResponse_v3(throttle_time_ms=0, topic_errors=[(topic='testing_topic-1234', error_code=36, error_message=\"Topic 'testing_topic-1234' already exists.\")])'.\n",
                        "Topic added anyway\n",
                        "Caught: [Error 36] TopicAlreadyExistsError: Request 'CreateTopicsRequest_v3(create_topic_requests=[(topic='testing_topic', num_partitions=1, replication_factor=1, replica_assignment=[], configs=[])], timeout=30000, validate_only=False)' failed with response 'CreateTopicsResponse_v3(throttle_time_ms=0, topic_errors=[(topic='testing_topic', error_code=36, error_message=\"Topic 'testing_topic' already exists.\")])'.\n",
                        "Topic added anyway\n"
                    ]
                }
            ],
            "metadata": {}
        },
        {
            "cell_type": "code",
            "execution_count": 4,
            "source": [
                "# However, another config object can add the topic to itself\n",
                "# NB: in this example, while creating the topic failed in the previous cell, it added it anyway\n",
                "# so here we get told, \"Already a topic named testing_topic!\"\n",
                "producer3.add_topic(\"testing_topic\")"
            ],
            "outputs": [
                {
                    "output_type": "stream",
                    "name": "stdout",
                    "text": [
                        "Already a topic named testing_topic!\n"
                    ]
                }
            ],
            "metadata": {}
        },
        {
            "cell_type": "code",
            "execution_count": 5,
            "source": [
                "# Multiple topics with each config object\n",
                "producer.create_topic(\"lunch\")\n",
                "producer.send_message(f\"Grilled turkey + cheese. Yum! {datetime.now().time()}\", \"lunch\")"
            ],
            "outputs": [
                {
                    "output_type": "stream",
                    "name": "stdout",
                    "text": [
                        "Caught: [Error 36] TopicAlreadyExistsError: Request 'CreateTopicsRequest_v3(create_topic_requests=[(topic='lunch', num_partitions=1, replication_factor=1, replica_assignment=[], configs=[])], timeout=30000, validate_only=False)' failed with response 'CreateTopicsResponse_v3(throttle_time_ms=0, topic_errors=[(topic='lunch', error_code=36, error_message=\"Topic 'lunch' already exists.\")])'.\n",
                        "Topic added anyway\n",
                        "Sent message to lunch\n"
                    ]
                }
            ],
            "metadata": {}
        },
        {
            "cell_type": "code",
            "execution_count": 8,
            "source": [
                "# \n",
                "consumer = Consumer(config)\n",
                "\n",
                "message = consumer.get_next_message(\"lunch\")\n",
                "\n",
                "### Message sent here ###\n",
                "\n",
                "print(message)"
            ],
            "outputs": [
                {
                    "output_type": "stream",
                    "name": "stdout",
                    "text": [
                        "None\n"
                    ]
                }
            ],
            "metadata": {}
        },
        {
            "cell_type": "code",
            "execution_count": 15,
            "source": [
                "# Start lisening to a topic\n",
                "consumer.start_listening('lunch')\n",
                "\n",
                "for i in range(5):\n",
                "    producer.send_message(f\"Grilled turkey + cheese. Yum! {datetime.now().time()}\", \"lunch\")\n",
                "    time.sleep(2)\n",
                "    print(consumer.message_bank['lunch'][-1].value)\n",
                "    time.sleep(2)"
            ],
            "outputs": [
                {
                    "output_type": "stream",
                    "name": "stdout",
                    "text": [
                        "Already a topic named lunch!\n",
                        "Started collecting in self.message_bank[lunch]\n",
                        "Sent message to lunch\n",
                        "b'\"Grilled turkey + cheese. Yum! 16:03:16.273632\"'\n",
                        "Sent message to lunch\n",
                        "b'\"Grilled turkey + cheese. Yum! 16:03:22.287039\"'\n",
                        "Sent message to lunch\n"
                    ]
                },
                {
                    "output_type": "error",
                    "ename": "KeyboardInterrupt",
                    "evalue": "",
                    "traceback": [
                        "\u001b[0;31m---------------------------------------------------------------------------\u001b[0m",
                        "\u001b[0;31mKeyboardInterrupt\u001b[0m                         Traceback (most recent call last)",
                        "\u001b[0;32m<ipython-input-15-8e32fb78831a>\u001b[0m in \u001b[0;36m<module>\u001b[0;34m\u001b[0m\n\u001b[1;32m      4\u001b[0m \u001b[0;32mfor\u001b[0m \u001b[0mi\u001b[0m \u001b[0;32min\u001b[0m \u001b[0mrange\u001b[0m\u001b[0;34m(\u001b[0m\u001b[0;36m5\u001b[0m\u001b[0;34m)\u001b[0m\u001b[0;34m:\u001b[0m\u001b[0;34m\u001b[0m\u001b[0;34m\u001b[0m\u001b[0m\n\u001b[1;32m      5\u001b[0m     \u001b[0mproducer\u001b[0m\u001b[0;34m.\u001b[0m\u001b[0msend_message\u001b[0m\u001b[0;34m(\u001b[0m\u001b[0;34mf\"Grilled turkey + cheese. Yum! {datetime.now().time()}\"\u001b[0m\u001b[0;34m,\u001b[0m \u001b[0;34m\"lunch\"\u001b[0m\u001b[0;34m)\u001b[0m\u001b[0;34m\u001b[0m\u001b[0;34m\u001b[0m\u001b[0m\n\u001b[0;32m----> 6\u001b[0;31m     \u001b[0mtime\u001b[0m\u001b[0;34m.\u001b[0m\u001b[0msleep\u001b[0m\u001b[0;34m(\u001b[0m\u001b[0;36m2\u001b[0m\u001b[0;34m)\u001b[0m\u001b[0;34m\u001b[0m\u001b[0;34m\u001b[0m\u001b[0m\n\u001b[0m\u001b[1;32m      7\u001b[0m     \u001b[0mprint\u001b[0m\u001b[0;34m(\u001b[0m\u001b[0mconsumer\u001b[0m\u001b[0;34m.\u001b[0m\u001b[0mmessage_bank\u001b[0m\u001b[0;34m[\u001b[0m\u001b[0;34m'lunch'\u001b[0m\u001b[0;34m]\u001b[0m\u001b[0;34m[\u001b[0m\u001b[0;34m-\u001b[0m\u001b[0;36m1\u001b[0m\u001b[0;34m]\u001b[0m\u001b[0;34m.\u001b[0m\u001b[0mvalue\u001b[0m\u001b[0;34m)\u001b[0m\u001b[0;34m\u001b[0m\u001b[0;34m\u001b[0m\u001b[0m\n\u001b[1;32m      8\u001b[0m     \u001b[0mtime\u001b[0m\u001b[0;34m.\u001b[0m\u001b[0msleep\u001b[0m\u001b[0;34m(\u001b[0m\u001b[0;36m2\u001b[0m\u001b[0;34m)\u001b[0m\u001b[0;34m\u001b[0m\u001b[0;34m\u001b[0m\u001b[0m\n",
                        "\u001b[0;31mKeyboardInterrupt\u001b[0m: "
                    ]
                }
            ],
            "metadata": {}
        },
        {
            "cell_type": "code",
            "execution_count": 37,
            "source": [
                "print(len(consumer.message_bank['lunch']))\n",
                "\n",
                "# Will stop listening AFTER the next message is received\n",
                "consumer.stop_listening('lunch')"
            ],
            "outputs": [
                {
                    "output_type": "stream",
                    "name": "stdout",
                    "text": [
                        "5\n",
                        "Stopped collecting in self.message_bank[lunch]\n"
                    ]
                }
            ],
            "metadata": {}
        },
        {
            "cell_type": "markdown",
            "source": [
                "--"
            ],
            "metadata": {}
        },
        {
            "cell_type": "markdown",
            "source": [
                "Now, let's try Google Pub Sub"
            ],
            "metadata": {}
        },
        {
            "cell_type": "code",
            "execution_count": 1,
            "source": [
                "import time\n",
                "from api.interface import *\n",
                "from datetime import datetime"
            ],
            "outputs": [],
            "metadata": {}
        },
        {
            "cell_type": "code",
            "execution_count": 2,
            "source": [
                "gconfig = Config(\n",
                "    provider = 'google_pubsub', project_id='vector2021-kafka', credentials_path=\"api/pub_sub_account_api.json~\"\n",
                ")\n",
                "# Again, regenerating a topic causes issue - I've created this topic before so we see the handling message below\n",
                "gproducer = Producer(gconfig)\n",
                "gproducer.create_topic('dinner')\n",
                "gproducer.send_message(f\"I think it's going to be curry {datetime.now().time()}\", 'dinner')"
            ],
            "outputs": [
                {
                    "output_type": "stream",
                    "name": "stdout",
                    "text": [
                        "Caught: 409 Resource already exists in the project (resource=dinner).\n",
                        "Topic added anyway\n",
                        "3126843497211796Sent message to dinner\n",
                        "\n"
                    ]
                }
            ],
            "metadata": {}
        },
        {
            "cell_type": "code",
            "execution_count": 11,
            "source": [
                "gconfig = Config(\n",
                "    provider = 'google_pubsub', project_id='vector2021-kafka', credentials_path=\"api/pub_sub_account_api.json~\"\n",
                ")\n",
                "gconsumer = Consumer(gconfig)\n",
                "\n",
                "message = gconsumer.get_next_message(\"dinner\")\n",
                "\n",
                "### Message sent here ###\n",
                "\n",
                "print(message.message.data)"
            ],
            "outputs": [
                {
                    "output_type": "stream",
                    "name": "stdout",
                    "text": [
                        "b\"I think it's going to be curry 17:37:15.982667\"\n"
                    ]
                }
            ],
            "metadata": {}
        },
        {
            "cell_type": "code",
            "execution_count": 13,
            "source": [
                "gconfig = Config(\n",
                "    provider = 'google_pubsub', project_id='vector2021-kafka', credentials_path=\"api/pub_sub_account_api.json~\"\n",
                ")\n",
                "gconsumer = Consumer(gconfig)\n",
                "gconsumer.start_listening('dinner')\n",
                "\n",
                "# Google can be a bit slow, so for the sake of this demonstration I'll make it wait until the message \n",
                "# is received\n",
                "def wait_until(somepredicate, timeout, period=0.25, *args, **kwargs):\n",
                "  mustend = time.time() + timeout\n",
                "  while time.time() < mustend:\n",
                "    if somepredicate(*args, **kwargs): return True\n",
                "    time.sleep(period)\n",
                "  return False\n",
                "\n",
                "for i in range(5):\n",
                "    gproducer.send_message(f\"Grilled turkey + cheese. Yum! {datetime.now().time()}\", \"dinner\")\n",
                "    wait_until(lambda x: len(x)>=i+1, 10, x=gconsumer.message_bank['dinner'])\n",
                "    print(gconsumer.message_bank['dinner'][-1].data)\n",
                "    time.sleep(2)\n",
                "\n",
                "gconsumer.stop_listening('dinner')"
            ],
            "outputs": [
                {
                    "output_type": "stream",
                    "name": "stdout",
                    "text": [
                        "projects/vector2021-kafka/subscriptions/dinner-subscription-42-25-17\n",
                        "Created subscription dinner-subscription-42-25-17 for topic dinner\n",
                        "Started collecting in self.message_bank[dinner]\n",
                        "3126672323791342Sent message to dinner\n",
                        "\n",
                        "b'Grilled turkey + cheese. Yum! 17:25:52.152187'\n",
                        "3126483677532092Sent message to dinner\n",
                        "\n",
                        "b'Grilled turkey + cheese. Yum! 17:26:01.225722'\n",
                        "3126671431665340Sent message to dinner\n",
                        "\n",
                        "b'Grilled turkey + cheese. Yum! 17:26:03.558225'\n",
                        "3126673231019989Sent message to dinner\n",
                        "\n",
                        "b'Grilled turkey + cheese. Yum! 17:26:05.877113'\n",
                        "3126582245108625Sent message to dinner\n",
                        "\n",
                        "b'Grilled turkey + cheese. Yum! 17:26:08.205376'\n",
                        "Stopped collecting in self.message_bank[dinner]\n"
                    ]
                }
            ],
            "metadata": {}
        },
        {
            "cell_type": "code",
            "execution_count": null,
            "source": [],
            "outputs": [],
            "metadata": {}
        }
    ],
    "metadata": {
        "orig_nbformat": 4,
        "language_info": {
            "name": "python",
            "version": "3.8.10",
            "mimetype": "text/x-python",
            "codemirror_mode": {
                "name": "ipython",
                "version": 3
            },
            "pygments_lexer": "ipython3",
            "nbconvert_exporter": "python",
            "file_extension": ".py"
        },
        "kernelspec": {
            "name": "python3",
            "display_name": "Python 3.8.10 64-bit ('container': conda)"
        },
        "interpreter": {
            "hash": "3055f3e12c0e234810da0dad9021fc400e0b7cf6c5f76517be4bba87130b6d4e"
        }
    },
    "nbformat": 4,
    "nbformat_minor": 2
}