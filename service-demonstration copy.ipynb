{
    "cells": [
        {
            "cell_type": "code",
            "execution_count": 2,
            "source": [
                "import time\n",
                "from api.interface import *\n",
                "from datetime import datetime"
            ],
            "outputs": [],
            "metadata": {}
        },
        {
            "cell_type": "markdown",
            "source": [
                "Let's start with Kafka"
            ],
            "metadata": {}
        },
        {
            "cell_type": "markdown",
            "source": [
                "To run server & consumer, open three terminals in order (in kafka directory)\n",
                "- bin/zookeeper-server-start.sh config/zookeeper.properties \n",
                "- bin/kafka-server-start.sh config/server.properties\n",
                "- bin/kafka-console-consumer.sh --bootstrap-server localhost:9092 --topic testing"
            ],
            "metadata": {}
        },
        {
            "cell_type": "code",
            "execution_count": 2,
            "source": [
                "# Start everything up as before\n",
                "config = Config(\n",
                "    provider = 'kafka', server = 'localhost:9092'\n",
                ")\n",
                "consumer = Consumer(config)\n",
                "consumer.add_topic(\"fashion_mnist\")"
            ],
            "outputs": [],
            "metadata": {}
        },
        {
            "cell_type": "markdown",
            "source": [
                "Run this to send a stream of images and indices to fashion_mnist:\n",
                "\n",
                "```python pt3/simulated_client.py```"
            ],
            "metadata": {}
        },
        {
            "cell_type": "markdown",
            "source": [
                "Now, we can start streaming messages into a function that classifies the image.\n",
                "\n",
                "For now, we'll do it in the main thread so we can see the results right here\n",
                "\n",
                "But this is blocking. In the cell after this one I'll trigger this in the OOP way so that it starts a thread automatically"
            ],
            "metadata": {}
        },
        {
            "cell_type": "code",
            "execution_count": 3,
            "source": [
                "import numpy as np\n",
                "import pickle, codecs, json, torch\n",
                "\n",
                "from cnn.model import generate_model_by_name\n",
                "from cnn.api import predict_numpy_images\n",
                "from api.utils import generate_consumer, direct_messages\n",
                "\n",
                "\n",
                "model = generate_model_by_name(num_classes=10, input_size=[1, 28, 28], name=\"default\")\n",
                "# Load weights here\n",
                "\n",
                "def classification_callback_function(message):\n",
                "    index, image = json.loads(message.value.decode())\n",
                "    image = np.array(image)\n",
                "    output = predict_numpy_images([image], model)\n",
                "    pred = torch.argmax(output)\n",
                "    print(f\"Image with id {index} classified as: {pred}\")\n",
                "\n",
                "    \n",
                "con = generate_consumer(config, \"fashion_mnist\")\n",
                "direct_messages(config, con, classification_callback_function)\n",
                "\n",
                "# In fact starting this in a blocking way gives this error..."
            ],
            "outputs": [
                {
                    "output_type": "stream",
                    "name": "stdout",
                    "text": [
                        "Image with id 6997 classified as: 7\n"
                    ]
                },
                {
                    "output_type": "error",
                    "ename": "AttributeError",
                    "evalue": "'_MainThread' object has no attribute 'stopped'",
                    "traceback": [
                        "\u001b[0;31m---------------------------------------------------------------------------\u001b[0m",
                        "\u001b[0;31mAttributeError\u001b[0m                            Traceback (most recent call last)",
                        "\u001b[0;32m<ipython-input-3-14befdf18ab7>\u001b[0m in \u001b[0;36m<module>\u001b[0;34m\u001b[0m\n\u001b[1;32m     24\u001b[0m \u001b[0;34m\u001b[0m\u001b[0m\n\u001b[1;32m     25\u001b[0m \u001b[0mcon\u001b[0m \u001b[0;34m=\u001b[0m \u001b[0mgenerate_consumer\u001b[0m\u001b[0;34m(\u001b[0m\u001b[0mconfig\u001b[0m\u001b[0;34m,\u001b[0m \u001b[0;34m\"fashion_mnist\"\u001b[0m\u001b[0;34m)\u001b[0m\u001b[0;34m\u001b[0m\u001b[0;34m\u001b[0m\u001b[0m\n\u001b[0;32m---> 26\u001b[0;31m \u001b[0mdirect_messages\u001b[0m\u001b[0;34m(\u001b[0m\u001b[0mconfig\u001b[0m\u001b[0;34m,\u001b[0m \u001b[0mcon\u001b[0m\u001b[0;34m,\u001b[0m \u001b[0mclassification_callback_function\u001b[0m\u001b[0;34m)\u001b[0m\u001b[0;34m\u001b[0m\u001b[0;34m\u001b[0m\u001b[0m\n\u001b[0m\u001b[1;32m     27\u001b[0m \u001b[0;34m\u001b[0m\u001b[0m\n\u001b[1;32m     28\u001b[0m \u001b[0;31m# In fact starting this in a blocking way gives this error...\u001b[0m\u001b[0;34m\u001b[0m\u001b[0;34m\u001b[0m\u001b[0;34m\u001b[0m\u001b[0m\n",
                        "\u001b[0;32m~/Documents/GitHub/vectorai.2021/api/utils.py\u001b[0m in \u001b[0;36mdirect_messages\u001b[0;34m(config, consumer, callback)\u001b[0m\n\u001b[1;32m    175\u001b[0m         \u001b[0;32mfor\u001b[0m \u001b[0mm\u001b[0m \u001b[0;32min\u001b[0m \u001b[0mconsumer\u001b[0m\u001b[0;34m:\u001b[0m\u001b[0;34m\u001b[0m\u001b[0;34m\u001b[0m\u001b[0m\n\u001b[1;32m    176\u001b[0m             \u001b[0mcallback\u001b[0m\u001b[0;34m(\u001b[0m\u001b[0mm\u001b[0m\u001b[0;34m)\u001b[0m\u001b[0;34m\u001b[0m\u001b[0;34m\u001b[0m\u001b[0m\n\u001b[0;32m--> 177\u001b[0;31m             \u001b[0;32mif\u001b[0m \u001b[0mthreading\u001b[0m\u001b[0;34m.\u001b[0m\u001b[0mcurrent_thread\u001b[0m\u001b[0;34m(\u001b[0m\u001b[0;34m)\u001b[0m\u001b[0;34m.\u001b[0m\u001b[0mstopped\u001b[0m\u001b[0;34m(\u001b[0m\u001b[0;34m)\u001b[0m\u001b[0;34m:\u001b[0m\u001b[0;34m\u001b[0m\u001b[0;34m\u001b[0m\u001b[0m\n\u001b[0m\u001b[1;32m    178\u001b[0m                 \u001b[0;32mbreak\u001b[0m\u001b[0;34m\u001b[0m\u001b[0;34m\u001b[0m\u001b[0m\n\u001b[1;32m    179\u001b[0m \u001b[0;34m\u001b[0m\u001b[0m\n",
                        "\u001b[0;31mAttributeError\u001b[0m: '_MainThread' object has no attribute 'stopped'"
                    ]
                }
            ],
            "metadata": {}
        },
        {
            "cell_type": "markdown",
            "source": [
                "Instead, what we should do is redirect our predictions to another kafka topic\n",
                "\n",
                "Consumer.start_stream() does what we did above in an async way\n",
                "\n",
                "Start a listening terminal for the ```fashion_predictions``` topic to see the results coming in:\n",
                "\n",
                "```bin/kafka-console-consumer.sh --bootstrap-server localhost:9092 --topic fashion_predictions```"
            ],
            "metadata": {}
        },
        {
            "cell_type": "code",
            "execution_count": 3,
            "source": [
                "import threading\n",
                "\n",
                "config = Config(\n",
                "    provider = 'kafka', server = 'localhost:9092'\n",
                ")\n",
                "\n",
                "consumer = Consumer(config)\n",
                "consumer.add_topic(\"fashion_mnist\")\n",
                "\n",
                "results_producer = Producer(config)\n",
                "results_producer.add_topic('fashion_predictions')\n",
                "\n",
                "def classify_and_report_callback_function(msg):\n",
                "    index, image = json.loads(msg.value.decode())\n",
                "    img = np.array(image)\n",
                "    output = predict_numpy_images([img], model)\n",
                "    pred = torch.argmax(output).item()\n",
                "\n",
                "    results_producer.send_message(\n",
                "        message=(index, pred),\n",
                "        topic_name=\"fashion_predictions\"\n",
                "    )\n",
                "\n",
                "# consumer.kill_stream(\"fashion_mnist\", \"classification\")\n",
                "\n",
                "consumer.start_stream(\n",
                "    topic_name=\"fashion_mnist\", \n",
                "    callback_function=classify_and_report_callback_function, \n",
                "    stream_name=\"classification\"\n",
                ")"
            ],
            "outputs": [
                {
                    "output_type": "stream",
                    "name": "stdout",
                    "text": [
                        "Started streaming messages from fashion_mnist to <function classify_and_report_callback_function at 0x7f85187a41f0>\n"
                    ]
                }
            ],
            "metadata": {}
        },
        {
            "cell_type": "code",
            "execution_count": 26,
            "source": [
                "x, y, z, n, = 16, 16, 16, 5\n",
                "\n",
                "import numpy as np\n",
                "a = np.array([[[(i, j, k) for i in range(x+1) if (x+y+z)!=n ] for j in range(y+1)] for k in range(z+1)])\n",
                "a.reshape(-1, 3)"
            ],
            "outputs": [
                {
                    "output_type": "execute_result",
                    "data": {
                        "text/plain": [
                            "array([[ 0,  0,  0],\n",
                            "       [ 1,  0,  0],\n",
                            "       [ 2,  0,  0],\n",
                            "       ...,\n",
                            "       [14, 16, 16],\n",
                            "       [15, 16, 16],\n",
                            "       [16, 16, 16]])"
                        ]
                    },
                    "metadata": {},
                    "execution_count": 26
                }
            ],
            "metadata": {}
        },
        {
            "cell_type": "code",
            "execution_count": 10,
            "source": [
                "[i+1 for i in range(x) if i !=7]"
            ],
            "outputs": [
                {
                    "output_type": "execute_result",
                    "data": {
                        "text/plain": [
                            "[1, 2, 3, 4, 5, 6, 7, 9, 10, 11, 12, 13, 14, 15, 16]"
                        ]
                    },
                    "metadata": {},
                    "execution_count": 10
                }
            ],
            "metadata": {}
        },
        {
            "cell_type": "code",
            "execution_count": 3,
            "source": [
                "\n",
                "\n",
                "\n",
                "    [\n",
                "        [\n",
                "            [\n",
                "                (i,j,k) for i in range(x+1)\n",
                "            ] for j in range(y+1)\n",
                "        ] for k in range(z+1)\n",
                "    ] if (i+j+k)!=n\n",
                "]"
            ],
            "outputs": [
                {
                    "output_type": "error",
                    "ename": "SyntaxError",
                    "evalue": "invalid syntax (<ipython-input-3-c6bcb9be94b5>, line 11)",
                    "traceback": [
                        "\u001b[0;36m  File \u001b[0;32m\"<ipython-input-3-c6bcb9be94b5>\"\u001b[0;36m, line \u001b[0;32m11\u001b[0m\n\u001b[0;31m    ]]\u001b[0m\n\u001b[0m    ^\u001b[0m\n\u001b[0;31mSyntaxError\u001b[0m\u001b[0;31m:\u001b[0m invalid syntax\n"
                    ]
                }
            ],
            "metadata": {}
        },
        {
            "cell_type": "code",
            "execution_count": null,
            "source": [],
            "outputs": [],
            "metadata": {}
        }
    ],
    "metadata": {
        "orig_nbformat": 4,
        "language_info": {
            "name": "python",
            "version": "3.8.10",
            "mimetype": "text/x-python",
            "codemirror_mode": {
                "name": "ipython",
                "version": 3
            },
            "pygments_lexer": "ipython3",
            "nbconvert_exporter": "python",
            "file_extension": ".py"
        },
        "kernelspec": {
            "name": "python3",
            "display_name": "Python 3.8.10 64-bit ('container': conda)"
        },
        "interpreter": {
            "hash": "3055f3e12c0e234810da0dad9021fc400e0b7cf6c5f76517be4bba87130b6d4e"
        }
    },
    "nbformat": 4,
    "nbformat_minor": 2
}